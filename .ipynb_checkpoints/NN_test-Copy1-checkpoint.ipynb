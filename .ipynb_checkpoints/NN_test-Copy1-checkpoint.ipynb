{
 "cells": [
  {
   "cell_type": "code",
   "execution_count": 1,
   "metadata": {
    "collapsed": false
   },
   "outputs": [
    {
     "name": "stdout",
     "output_type": "stream",
     "text": [
      "Populating the interactive namespace from numpy and matplotlib\n"
     ]
    }
   ],
   "source": [
    "import matplotlib.pyplot as plt\n",
    "import numpy as np\n",
    "import tqdm\n",
    "from sklearn.datasets import fetch_mldata\n",
    "from sklearn.preprocessing import LabelBinarizer\n",
    "import sklearn.metrics as sm\n",
    "\n",
    "%pylab inline"
   ]
  },
  {
   "cell_type": "markdown",
   "metadata": {},
   "source": [
    "### Подготовка данных: \n",
    "загрузим датасет mnist, случайным образом перемешаем, бинаризуем истинные метки объектов и разделим выборку на тренировочную, валидационную и тестовую."
   ]
  },
  {
   "cell_type": "code",
   "execution_count": 2,
   "metadata": {
    "collapsed": false
   },
   "outputs": [],
   "source": [
    "mnist=fetch_mldata(dataname='MNIST original',data_home='mnist')\n",
    "X,T = mnist['data'],mnist['target']\n",
    "p = np.random.permutation(X.shape[0])\n",
    "\n",
    "lb = LabelBinarizer()\n",
    "X,T = X[p],lb.fit_transform(T[p])\n",
    "\n",
    "X_train, T_train = X[:50000]/255.,T[:50000]\n",
    "X_val,T_val = X[50000:60000]/255.,T[50000:60000]\n",
    "X_test,T_test = X[60000:]/255.,T[60000:]\n"
   ]
  },
  {
   "cell_type": "markdown",
   "metadata": {},
   "source": [
    "### Тренировка сети:\n",
    "\n",
    "Будем использовать следующую структуру сети: Линейный слой(50) -> Тангенциальный слой-> Линейный слой(10) -> Softmax -> NLL.\n",
    "\n",
    "\n",
    "В линейном слое используется L2-регуляризация"
   ]
  },
  {
   "cell_type": "code",
   "execution_count": 3,
   "metadata": {
    "collapsed": false
   },
   "outputs": [
    {
     "data": {
      "text/plain": [
       "<module 'nn' from 'nn/__init__.pyc'>"
      ]
     },
     "execution_count": 3,
     "metadata": {},
     "output_type": "execute_result"
    }
   ],
   "source": [
    "import nn\n",
    "reload(nn)"
   ]
  },
  {
   "cell_type": "code",
   "execution_count": 4,
   "metadata": {
    "collapsed": false
   },
   "outputs": [
    {
     "name": "stdout",
     "output_type": "stream",
     "text": [
      "Current architecture\n",
      "Linear_(in=784,out=50)_1\n",
      "Tanh_1\n",
      "Linear_(in=50,out=10)_2\n",
      "SoftMax_1\n",
      "NLL_1\n"
     ]
    }
   ],
   "source": [
    "NN = nn.sequential.Sequential()\n",
    "NN.add(nn.linear.Linear(784,50,learning_rate=1e-3,lmbda=5e-4))\n",
    "NN.add(nn.tanh.Tanh())\n",
    "NN.add(nn.linear.Linear(50,10,learning_rate=1e-3,lmbda=5e-4))\n",
    "NN.add(nn.softmax.SoftMax())\n",
    "NN.add(nn.NLL())\n",
    "print(\"Current architecture\")\n",
    "NN.added_layers()"
   ]
  },
  {
   "cell_type": "code",
   "execution_count": 5,
   "metadata": {
    "collapsed": false,
    "scrolled": false
   },
   "outputs": [
    {
     "name": "stderr",
     "output_type": "stream",
     "text": [
      "100%|██████████| 30/30 [01:01<00:00,  2.42s/it]\n"
     ]
    }
   ],
   "source": [
    "batch_size = 250\n",
    "l_epoch = []\n",
    "l_val = []\n",
    "accuracies = []\n",
    "n_epochs = 30\n",
    "\n",
    "for i in tqdm.tqdm(xrange(n_epochs)):\n",
    "    p = np.random.permutation(X_train.shape[0])\n",
    "    X_train, T_train = X_train[p],T_train[p]\n",
    "    losses = []\n",
    "    l_val.append((1./X_val.shape[0])*NN.forward(X_val,T_val))\n",
    "    \n",
    "    for batch_data,batch_label in zip(np.array_split(X_train,X_train.shape[0]//batch_size),\n",
    "                                        np.array_split(T_train,T_train.shape[0]//batch_size)):\n",
    "        losses.append(NN.forward(batch_data,Y=batch_label))\n",
    "        NN.backward()\n",
    "    l_epoch.append((1./X_train.shape[0])*np.sum(losses))    \n",
    "    y_pred = NN.predict(X_val)\n",
    "    accuracies.append(sm.accuracy_score(T_val,y_pred))\n",
    "    "
   ]
  },
  {
   "cell_type": "markdown",
   "metadata": {},
   "source": [
    "### Анализ тренировки:"
   ]
  },
  {
   "cell_type": "code",
   "execution_count": 6,
   "metadata": {
    "collapsed": false
   },
   "outputs": [
    {
     "data": {
      "image/png": "[encoded data removed]",
      "text/plain": [
       "<matplotlib.figure.Figure at 0x7f55aba47bd0>"
      ]
     },
     "metadata": {},
     "output_type": "display_data"
    }
   ],
   "source": [
    "plt.figure(figsize = (8,6))\n",
    "plt.plot(l_epoch,'o-',label='train set')\n",
    "plt.plot(l_val,label='validation set')\n",
    "plt.xlabel('epochs')\n",
    "plt.ylabel('mean loss')\n",
    "plt.legend()\n",
    "plt.title('mean loss during training')\n",
    "plt.savefig('loss.png')"
   ]
  },
  {
   "cell_type": "code",
   "execution_count": 7,
   "metadata": {
    "collapsed": false
   },
   "outputs": [
    {
     "data": {
      "image/png": "[encoded data removed]",
      "text/plain": [
       "<matplotlib.figure.Figure at 0x7f55a4ae8d90>"
      ]
     },
     "metadata": {},
     "output_type": "display_data"
    }
   ],
   "source": [
    "plt.figure(figsize = (8,6))\n",
    "plt.plot(accuracies,'-',label='validation set')\n",
    "plt.xlabel('epochs')\n",
    "plt.ylabel('accuracy')\n",
    "plt.legend(loc='best')\n",
    "plt.title('accuracy on val set during training')\n",
    "plt.savefig('accuracy.png')"
   ]
  },
  {
   "cell_type": "markdown",
   "metadata": {},
   "source": [
    "Предскажем метки классов для тестовой выборки, оценим среднюю точность"
   ]
  },
  {
   "cell_type": "code",
   "execution_count": 8,
   "metadata": {
    "collapsed": false
   },
   "outputs": [
    {
     "name": "stdout",
     "output_type": "stream",
     "text": [
      "Accuracy on test set 0.9689\n"
     ]
    }
   ],
   "source": [
    "y_pred_test = NN.predict(X_test)\n",
    "print \"Accuracy on test set\", sm.accuracy_score(T_test,y_pred_test)"
   ]
  }
 ],
 "metadata": {
  "kernelspec": {
   "display_name": "Python [Root]",
   "language": "python",
   "name": "Python [Root]"
  },
  "language_info": {
   "codemirror_mode": {
    "name": "ipython",
    "version": 2
   },
   "file_extension": ".py",
   "mimetype": "text/x-python",
   "name": "python",
   "nbconvert_exporter": "python",
   "pygments_lexer": "ipython2",
   "version": "2.7.12"
  }
 },
 "nbformat": 4,
 "nbformat_minor": 0
}
